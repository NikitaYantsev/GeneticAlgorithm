{
 "cells": [
  {
   "cell_type": "code",
   "execution_count": 1,
   "outputs": [],
   "source": [
    "import numpy as np\n",
    "import optuna\n",
    "import tqdm.notebook"
   ],
   "metadata": {
    "collapsed": false
   }
  },
  {
   "cell_type": "code",
   "execution_count": null,
   "outputs": [],
   "source": [
    "with open('genetic_input') as fin:\n",
    "    task_number = int(fin.readline())\n",
    "    task_categories = np.array(list(map(int, fin.readline().split())))\n",
    "    estimate_time_to_solve_tasks = np.array(list(map(float, fin.readline().split())))\n",
    "    developer_number = int(fin.readline())\n",
    "    developer_coefficients = np.array([list(map(float, fin.readline().split())) for i in range(developer_number)])"
   ],
   "metadata": {
    "collapsed": false
   }
  },
  {
   "cell_type": "code",
   "execution_count": null,
   "outputs": [],
   "source": [
    "class GeneticAlgorithm:\n",
    "    \"\"\"\n",
    "    Genetic algorithm implementation class.\n",
    "    \"\"\"\n",
    "    task_categories: np.array\n",
    "    estimate_time_to_solve_tasks: np.array\n",
    "    developer_coefficients: np.array\n",
    "    population_size: int\n",
    "    selection_size: int\n",
    "    child_mutation_prob: float\n",
    "    gen_mutation_prob: float\n",
    "    selected: np.array\n",
    "    children: np.array\n",
    "\n",
    "    def __init__(self,\n",
    "                 task_categories: np.array,\n",
    "                 estimate_time_to_solve_tasks: np.array,\n",
    "                 developer_coefficients: np.array,\n",
    "                 population_size: int,\n",
    "                 selection_size: int,\n",
    "                 child_mutation_prob: float,\n",
    "                 gen_mutation_prob: float) -> None:\n",
    "        \"\"\"\n",
    "        A constructor for a genetic algorithm class instance.\n",
    "        :param task_categories: np.array of task difficulty categories. (size=n_tasks)\n",
    "        :param estimate_time_to_solve_tasks: np.array of time estimations for solving each task. (size=n_tasks)\n",
    "        :param developer_coefficients: np.array of developer coefficients for each task difficulty respectively (size=n_developers, n_task_categories)\n",
    "        :param population_size: size of initial population, also represents how many individuals are going to born after each selection phase.\n",
    "        :param selection_size: size of individuals to be selected at each iteration.\n",
    "        :param child_mutation_prob: probability for an individual to mutate.\n",
    "        :param gen_mutation_prob: probability for a gen of a given individual to mutate.\n",
    "        \"\"\"\n",
    "        self.task_categories = task_categories\n",
    "        self.estimate_time_to_solve_tasks = estimate_time_to_solve_tasks\n",
    "        self.developer_coefficients = developer_coefficients\n",
    "        self.population_size = population_size\n",
    "        self.selection_size = selection_size\n",
    "        self.child_mutation_prob = child_mutation_prob\n",
    "        self.gen_mutation_prob = gen_mutation_prob\n",
    "        self.rng = np.random.default_rng()\n",
    "        self.population = self.rng.integers(1,\n",
    "                                            self.developer_coefficients.shape[0] + 1,\n",
    "                                            size=(self.population_size,\n",
    "                                                  self.estimate_time_to_solve_tasks.shape[0]))\n",
    "    def selection(self) -> None:\n",
    "        \"\"\"\n",
    "        Selection phase. Picks self.selection_size individuals with a highest fitness value.\n",
    "        :return:\n",
    "        \"\"\"\n",
    "        self.selected = self.population[np.argsort(self.fitness())[-self.selection_size:]]\n",
    "\n",
    "    def fitness(self) -> np.array:\n",
    "        \"\"\"\n",
    "        Function to compute fitness of a population.\n",
    "        Fitness is computed as 100 / T_max, where T_max is the longest time interval spent to complete the tasks among all developers within an individual.\n",
    "        :return:\n",
    "        \"\"\"\n",
    "        fitness = np.zeros(self.population.shape[0], dtype=float)\n",
    "        for developer in range(1, self.developer_coefficients.shape[0] + 1):\n",
    "            developer_indexes = np.where(self.population == developer)\n",
    "            task_indexes = developer_indexes[1]\n",
    "            bins = developer_indexes[0]\n",
    "            dev_time = self.estimate_time_to_solve_tasks[task_indexes] * self.developer_coefficients[developer - 1, self.task_categories[task_indexes] - 1]\n",
    "            current_fitness = np.bincount(bins, weights=dev_time)\n",
    "            fitness = np.maximum(current_fitness, fitness)\n",
    "        fitness = 100 / fitness\n",
    "        return fitness\n",
    "\n",
    "    def crossover(self) -> None:\n",
    "        \"\"\"\n",
    "        Crossover stage.\n",
    "        Commented part of code implements 1-point crossover.\n",
    "        Uncommented part of code implements uniform crossover.\n",
    "        :return:\n",
    "        \"\"\"\n",
    "        new_count = self.population_size - self.selection_size\n",
    "        parent1 = self.rng.integers(0, self.selection_size, size=new_count)\n",
    "        parent2 = (self.rng.integers(1, self.selection_size, size=new_count) + parent1) % self.selection_size\n",
    "        #point = self.rng.integers(1, self.population.shape[1] - 1, size=new_count)\n",
    "        self.children = np.where(\n",
    "            #np.arange(self.population.shape[1])[None] <= point[..., None],\n",
    "            self.rng.integers(2, size=self.population.shape[1]),\n",
    "            self.selected[parent1],\n",
    "            self.selected[parent2]\n",
    "        )\n",
    "\n",
    "    def mutation(self) -> None:\n",
    "        \"\"\"\n",
    "        Mutation phase.\n",
    "        Picks random amount of individuals (chance to be picked is self.child_mutation_prob) and mutates their genes (each gen has a self.gen_mutation_prob to get mutated).\n",
    "        :return:\n",
    "        \"\"\"\n",
    "        mut_childs_mask = self.rng.choice(2, p=(1 - self.child_mutation_prob,\n",
    "                                                self.child_mutation_prob),\n",
    "                                                size=len(self.children)) > 0\n",
    "        mut_childs = self.rng.integers(1, 11, size=(mut_childs_mask.sum(), self.population.shape[1]))\n",
    "        gen_childs_mask = self.rng.random(size=mut_childs.shape) <= self.gen_mutation_prob\n",
    "        self.children[mut_childs_mask] = np.where(gen_childs_mask,\n",
    "                                                  mut_childs,\n",
    "                                                  self.children[mut_childs_mask])\n",
    "\n",
    "    def step(self) -> None:\n",
    "        \"\"\"\n",
    "        Computes one step of algorithm learning stage.\n",
    "        This involves selection, crossover and mutation stages.\n",
    "        After this, selected population and born population get combined.\n",
    "        :return:\n",
    "        \"\"\"\n",
    "        self.selection()\n",
    "        self.crossover()\n",
    "        self.mutation()\n",
    "        self.population = np.concatenate([self.selected, self.children], axis=0)\n",
    "\n",
    "    def fit(self, iterations: int) -> None:\n",
    "        \"\"\"\n",
    "        Fits a genetic algorithm.\n",
    "        :return:\n",
    "        \"\"\"\n",
    "        pbar = tqdm.notebook.trange(iterations)\n",
    "        for _ in pbar:\n",
    "            self.step()\n",
    "            pbar.set_description(f'{self.fitness().max()}')\n"
   ],
   "metadata": {
    "collapsed": false
   }
  },
  {
   "cell_type": "code",
   "execution_count": 15,
   "id": "d5ef237a",
   "metadata": {},
   "outputs": [],
   "source": [
    "def objective(trial):\n",
    "    bound = trial.suggest_int(\"bound\", 3, 99)\n",
    "    population_size = trial.suggest_int(\"population_size\", bound, 100)\n",
    "    selection_size = trial.suggest_int(\"selection_size\", 2, bound)\n",
    "    child_mutation_prob = trial.suggest_float(\"child_mutation_prob\", 0, 1)\n",
    "    gen_mutation_prob = trial.suggest_float(\"gen_mutation_prob\", 0, 1)\n",
    "    \n",
    "    ga = GeneticAlgorithm(task_categories, \n",
    "                          estimate_time_to_solve_tasks, \n",
    "                          developer_coefficients, \n",
    "                          population_size, \n",
    "                          selection_size, \n",
    "                          child_mutation_prob, \n",
    "                          gen_mutation_prob)\n",
    "    ga.fit()\n",
    "    \n",
    "    max_accuracy = ga.fitness().max()\n",
    "    \n",
    "    best_population = ga.population[np.argmax(ga.fitness())]\n",
    "    with open('output.txt', 'a') as fout:\n",
    "        print(f'{max_accuracy}:', file=fout)\n",
    "        print(' '.join(list(map(str, best_population))), file=fout)\n",
    "        print(file=fout)\n",
    "        print(file=fout)\n",
    "            \n",
    "    return max_accuracy"
   ]
  },
  {
   "cell_type": "code",
   "execution_count": null,
   "id": "1cee0ab4",
   "metadata": {},
   "outputs": [
    {
     "name": "stderr",
     "output_type": "stream",
     "text": [
      "[I 2023-06-24 00:11:06,792] A new study created in memory with name: no-name-35d1c034-6c1c-40a1-94b6-f3faebcc520b\n"
     ]
    },
    {
     "data": {
      "application/vnd.jupyter.widget-view+json": {
       "model_id": "024a9294fa6a4885b1c3aa8709211b8d",
       "version_major": 2,
       "version_minor": 0
      },
      "text/plain": [
       "  0%|          | 0/2000 [00:00<?, ?it/s]"
      ]
     },
     "metadata": {},
     "output_type": "display_data"
    },
    {
     "name": "stderr",
     "output_type": "stream",
     "text": [
      "[I 2023-06-24 00:11:34,874] Trial 0 finished with value: 0.16438311127914723 and parameters: {'bound': 72, 'population_size': 91, 'selection_size': 55, 'child_mutation_prob': 0.20026992617362926, 'gen_mutation_prob': 0.5748045774110374}. Best is trial 0 with value: 0.16438311127914723.\n"
     ]
    },
    {
     "data": {
      "application/vnd.jupyter.widget-view+json": {
       "model_id": "da4d383e488846c4b113aa902048c9d2",
       "version_major": 2,
       "version_minor": 0
      },
      "text/plain": [
       "  0%|          | 0/2000 [00:00<?, ?it/s]"
      ]
     },
     "metadata": {},
     "output_type": "display_data"
    },
    {
     "name": "stderr",
     "output_type": "stream",
     "text": [
      "[I 2023-06-24 00:12:08,247] Trial 1 finished with value: 0.16024100246771147 and parameters: {'bound': 67, 'population_size': 93, 'selection_size': 11, 'child_mutation_prob': 0.9348627472433961, 'gen_mutation_prob': 0.4827080591768391}. Best is trial 0 with value: 0.16438311127914723.\n"
     ]
    },
    {
     "data": {
      "application/vnd.jupyter.widget-view+json": {
       "model_id": "bc6fbc6dffb0478bbcba4440d1d072fa",
       "version_major": 2,
       "version_minor": 0
      },
      "text/plain": [
       "  0%|          | 0/2000 [00:00<?, ?it/s]"
      ]
     },
     "metadata": {},
     "output_type": "display_data"
    }
   ],
   "source": [
    "study = optuna.create_study(direction='maximize')\n",
    "study.optimize(objective, n_trials=100)"
   ]
  }
 ],
 "metadata": {
  "kernelspec": {
   "display_name": "Python 3 (ipykernel)",
   "language": "python",
   "name": "python3"
  },
  "language_info": {
   "codemirror_mode": {
    "name": "ipython",
    "version": 3
   },
   "file_extension": ".py",
   "mimetype": "text/x-python",
   "name": "python",
   "nbconvert_exporter": "python",
   "pygments_lexer": "ipython3",
   "version": "3.10.6"
  }
 },
 "nbformat": 4,
 "nbformat_minor": 5
}
